{
 "cells": [
  {
   "metadata": {},
   "cell_type": "markdown",
   "source": "# 0. 导入库",
   "id": "b44c5e5fd55f9fb7"
  },
  {
   "metadata": {
    "ExecuteTime": {
     "end_time": "2024-06-27T05:33:45.366077Z",
     "start_time": "2024-06-27T05:33:44.200615Z"
    }
   },
   "cell_type": "code",
   "source": "import torch",
   "id": "a21e9debd63a3081",
   "outputs": [],
   "execution_count": 1
  },
  {
   "metadata": {},
   "cell_type": "markdown",
   "source": "# 1. 测试是否支持CUDA运算",
   "id": "d1ab20187d6deb0"
  },
  {
   "metadata": {
    "ExecuteTime": {
     "end_time": "2024-06-27T05:33:48.748578Z",
     "start_time": "2024-06-27T05:33:48.453346Z"
    }
   },
   "cell_type": "code",
   "source": [
    "# Test whether the torch.cuda module is available\n",
    "print(torch.cuda.is_available())\n",
    "\n",
    "# If the CUDA is available, print the matrix multiplication result\n",
    "if torch.cuda.is_available():\n",
    "    a = torch.tensor([1.0, 2.0]).cuda()\n",
    "    b = torch.tensor([2.0, 3.0]).cuda()\n",
    "    print(a * b)"
   ],
   "id": "77dbc5e028f05285",
   "outputs": [
    {
     "name": "stdout",
     "output_type": "stream",
     "text": [
      "True\n",
      "tensor([2., 6.], device='cuda:0')\n"
     ]
    }
   ],
   "execution_count": 2
  },
  {
   "metadata": {},
   "cell_type": "markdown",
   "source": "# 2. Get the tensor's basic properties",
   "id": "a36dbec9a2c344dc"
  },
  {
   "metadata": {
    "ExecuteTime": {
     "end_time": "2024-06-27T05:33:53.742638Z",
     "start_time": "2024-06-27T05:33:53.727661Z"
    }
   },
   "cell_type": "code",
   "source": [
    "# Check the device availability\n",
    "device = torch.device(\"cuda:0\" if torch.cuda.is_available() else \"cpu\")\n",
    "\n",
    "# Define a tensor\n",
    "tensor = torch.tensor([[1.0, 2.0], [3.0, 4.0], [5.0, 6.0]], dtype=torch.float).to(device)\n",
    "\n",
    "# 获取数据维度\n",
    "print(f\"Shape of tensor: {tensor.shape}\")\n",
    "\n",
    "# 获取数据类型\n",
    "print(f\"Datatype of tensor: {tensor.dtype}\")\n",
    "\n",
    "# 获取数据所在的设备类型，CPU或GPU数据\n",
    "print(f\"Device tensor is stored on: {tensor.device}\")"
   ],
   "id": "dd1309d59114d358",
   "outputs": [
    {
     "name": "stdout",
     "output_type": "stream",
     "text": [
      "Shape of tensor: torch.Size([3, 2])\n",
      "Datatype of tensor: torch.float32\n",
      "Device tensor is stored on: cuda:0\n"
     ]
    }
   ],
   "execution_count": 3
  },
  {
   "metadata": {},
   "cell_type": "markdown",
   "source": [
    "## 2.1. 获取张量维度还可以使用 size 命令\n",
    "除此以外，我们还可以使用size来获取张量的维度，这也是代码里常见的用法，不过我比较推荐使用shape，因为如果我们想要修改张量的维度，可以直接对应使用 **reshape** 命令。\n"
   ],
   "id": "74e223b6cfd5f486"
  },
  {
   "metadata": {
    "ExecuteTime": {
     "end_time": "2024-06-27T05:34:01.079205Z",
     "start_time": "2024-06-27T05:34:01.071660Z"
    }
   },
   "cell_type": "code",
   "source": "tensor.size()",
   "id": "ccfcd6a993384ba3",
   "outputs": [
    {
     "data": {
      "text/plain": [
       "torch.Size([3, 2])"
      ]
     },
     "execution_count": 4,
     "metadata": {},
     "output_type": "execute_result"
    }
   ],
   "execution_count": 4
  }
 ],
 "metadata": {
  "kernelspec": {
   "display_name": "Python 3",
   "language": "python",
   "name": "python3"
  },
  "language_info": {
   "codemirror_mode": {
    "name": "ipython",
    "version": 2
   },
   "file_extension": ".py",
   "mimetype": "text/x-python",
   "name": "python",
   "nbconvert_exporter": "python",
   "pygments_lexer": "ipython2",
   "version": "2.7.6"
  }
 },
 "nbformat": 4,
 "nbformat_minor": 5
}
