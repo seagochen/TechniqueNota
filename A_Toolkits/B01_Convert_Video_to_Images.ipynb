{
 "cells": [
  {
   "cell_type": "markdown",
   "id": "ec69c643447af2a8",
   "metadata": {},
   "source": [
    "# Import libraries"
   ]
  },
  {
   "cell_type": "code",
   "execution_count": 1,
   "id": "initial_id",
   "metadata": {},
   "outputs": [],
   "source": [
    "import cv2\n",
    "import os\n",
    "\n",
    "from Commons import create_folder"
   ]
  },
  {
   "cell_type": "markdown",
   "id": "16889ba3597dfeeb",
   "metadata": {},
   "source": [
    "# Convert the video into frames"
   ]
  },
  {
   "cell_type": "code",
   "execution_count": 2,
   "id": "24036ba9",
   "metadata": {},
   "outputs": [],
   "source": [
    "def convert_video_to_images(video_path, output_folder):\n",
    "    cap = cv2.VideoCapture(video_path)\n",
    "    count = 0\n",
    "\n",
    "    # Create output folder if it doesn't exist\n",
    "    create_folder(output_folder)\n",
    "\n",
    "    # Get the name of the video file\n",
    "    video_name = os.path.basename(video_path).split(\".\")[0]\n",
    "\n",
    "    while cap.isOpened():\n",
    "        ret, frame = cap.read()\n",
    "        if not ret:\n",
    "            break\n",
    "        cv2.imwrite(os.path.join(output_folder, f\"{video_name}_{count:06d}.png\"), frame)\n",
    "        count += 1"
   ]
  },
  {
   "cell_type": "markdown",
   "id": "511dd954fc666dd6",
   "metadata": {},
   "source": [
    "# Main"
   ]
  },
  {
   "cell_type": "code",
   "execution_count": 3,
   "id": "4b36a107",
   "metadata": {},
   "outputs": [],
   "source": [
    "# 请求用户输入路径\n",
    "images_path = input(\"请输入视频的路径: \")\n",
    "\n",
    "# Get the output folder by removing the file extension from the video path\n",
    "output_folder = images_path.split(\".\")[0]\n",
    "\n",
    "convert_video_to_images(images_path, output_folder)"
   ]
  }
 ],
 "metadata": {
  "kernelspec": {
   "display_name": "Python 3",
   "language": "python",
   "name": "python3"
  },
  "language_info": {
   "codemirror_mode": {
    "name": "ipython",
    "version": 3
   },
   "file_extension": ".py",
   "mimetype": "text/x-python",
   "name": "python",
   "nbconvert_exporter": "python",
   "pygments_lexer": "ipython3",
   "version": "3.12.4"
  }
 },
 "nbformat": 4,
 "nbformat_minor": 5
}
