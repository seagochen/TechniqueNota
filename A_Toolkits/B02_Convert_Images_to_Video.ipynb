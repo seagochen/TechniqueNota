{
 "cells": [
  {
   "cell_type": "markdown",
   "id": "bc134ee039e862de",
   "metadata": {},
   "source": [
    "# Import libraries"
   ]
  },
  {
   "cell_type": "code",
   "execution_count": null,
   "id": "c0ebc3a32367b94e",
   "metadata": {},
   "outputs": [],
   "source": [
    "import cv2\n",
    "import os\n",
    "\n",
    "from Commons import create_folder"
   ]
  },
  {
   "cell_type": "markdown",
   "id": "a4df57835acd2f19",
   "metadata": {},
   "source": [
    "# Convert images into video"
   ]
  },
  {
   "cell_type": "code",
   "execution_count": null,
   "id": "aef4492cdb54917c",
   "metadata": {},
   "outputs": [],
   "source": [
    "def convert_images_to_video(images_folder, output_folder):\n",
    "    \n",
    "    # Iterate over all the images in the folder\n",
    "    images = [img for img in os.listdir(images_folder) if img.endswith(\".png\") or img.endswith(\".jpg\")]\n",
    "\n",
    "    # Sort the images by alphabetical order\n",
    "    images.sort()\n",
    "\n",
    "    # Get the name of the video file\n",
    "    video_name = os.path.basename(images_folder).split(\".\")[0] + \".avi\"\n",
    "\n",
    "    # Create output folder if it doesn't exist\n",
    "    create_folder(output_folder)\n",
    "\n",
    "    # Get the first image to get the size of the video\n",
    "    img = cv2.imread(os.path.join(images_folder, images[0]))\n",
    "    height, width, _ = img.shape\n",
    "\n",
    "    # Create the video writer and set the FPS to 25\n",
    "    video = cv2.VideoWriter(os.path.join(output_folder, video_name), cv2.VideoWriter_fourcc(*'DIVX'), 25, (width, height))\n",
    "\n",
    "    for image in images:\n",
    "        video.write(cv2.imread(os.path.join(images_folder, image)))\n",
    "    \n",
    "    # Release the video writer\n",
    "    video.release()"
   ]
  },
  {
   "cell_type": "markdown",
   "id": "4bbb1a9221df830a",
   "metadata": {},
   "source": [
    "# Main"
   ]
  },
  {
   "cell_type": "code",
   "execution_count": null,
   "id": "26d7b35359976393",
   "metadata": {},
   "outputs": [],
   "source": [
    "# 请求用户输入路径\n",
    "video_path = input(\"请输入图片文件的路径: \")\n",
    "\n",
    "# 请求用户输入输出文件夹\n",
    "output_folder = input(\"请输入输出文件夹的路径: \")\n",
    "\n",
    "# Convert the video to images\n",
    "convert_images_to_video(video_path, output_folder)"
   ]
  }
 ],
 "metadata": {
  "kernelspec": {
   "display_name": "Python 3",
   "language": "python",
   "name": "python3"
  },
  "language_info": {
   "codemirror_mode": {
    "name": "ipython",
    "version": 3
   },
   "file_extension": ".py",
   "mimetype": "text/x-python",
   "name": "python",
   "nbconvert_exporter": "python",
   "pygments_lexer": "ipython3",
   "version": "3.12.4"
  }
 },
 "nbformat": 4,
 "nbformat_minor": 5
}
