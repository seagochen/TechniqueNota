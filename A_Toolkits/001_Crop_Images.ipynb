{
 "cells": [
  {
   "cell_type": "markdown",
   "metadata": {},
   "source": [
    "# Import libraries"
   ]
  },
  {
   "cell_type": "code",
   "execution_count": null,
   "metadata": {},
   "outputs": [],
   "source": [
    "import os\n",
    "import cv2"
   ]
  },
  {
   "cell_type": "markdown",
   "metadata": {},
   "source": [
    "# Crop the images"
   ]
  },
  {
   "cell_type": "code",
   "execution_count": null,
   "metadata": {},
   "outputs": [],
   "source": [
    "def crop_images(image_folder, output_folder, ltx, lty):\n",
    "    # 检查输入文件夹是否存在\n",
    "    if not os.path.exists(image_folder):\n",
    "        print(f\"The specified input path {image_folder} does not exist.\")\n",
    "        return\n",
    "    \n",
    "    # 检查输出文件夹是否存在，如果不存在则创建\n",
    "    if not os.path.exists(output_folder):\n",
    "        os.makedirs(output_folder)\n",
    "    \n",
    "    # 遍历文件夹中的所有图像文件\n",
    "    for image_file in os.listdir(image_folder):\n",
    "        image_path = os.path.join(image_folder, image_file)\n",
    "        \n",
    "        # 读取图像\n",
    "        image = cv2.imread(image_path)\n",
    "        if image is None:\n",
    "            print(f\"Could not read image {image_file}. Skipping.\")\n",
    "            continue\n",
    "        \n",
    "        # 获取图像的尺寸\n",
    "        height, width = image.shape[:2]\n",
    "\n",
    "        # 确定裁剪区域的最小边长\n",
    "        crop_width = width - ltx\n",
    "        crop_height = height - lty\n",
    "\n",
    "        # 计算最小边长度\n",
    "        min_side_length = min(crop_width, crop_height)\n",
    "\n",
    "        # 调整裁剪区域\n",
    "        cropped_image = image[lty:lty+min_side_length, ltx:ltx+min_side_length]\n",
    "\n",
    "        # 保存裁剪后的图像\n",
    "        output_path = os.path.join(output_folder, image_file)\n",
    "        cv2.imwrite(output_path, cropped_image)\n",
    "        print(f\"Cropped and saved {image_file} to {output_folder}\")"
   ]
  },
  {
   "cell_type": "markdown",
   "metadata": {},
   "source": [
    "# Main"
   ]
  },
  {
   "cell_type": "code",
   "execution_count": null,
   "metadata": {},
   "outputs": [],
   "source": [
    "# 请求用户输入路径\n",
    "image_folder = input(\"请输入图像文件夹的路径: \")\n",
    "output_folder = os.path.join(image_folder, \"cropped\")\n",
    "\n",
    "# 请求用户输入裁剪区域\n",
    "ltx = int(input(\"请输入左上角 x 坐标: \"))\n",
    "lty = int(input(\"请输入左上角 y 坐标: \"))\n",
    "\n",
    "# 输出\n",
    "print(f\"裁剪区域: 左上角坐标 ({ltx}, {lty})\")\n",
    "\n",
    "# 检查路径是否存在\n",
    "if os.path.exists(image_folder):\n",
    "    crop_images(image_folder, output_folder, ltx, lty)\n",
    "else:\n",
    "    print(f\"The specified path {image_folder} does not exist.\")"
   ]
  }
 ],
 "metadata": {
  "kernelspec": {
   "display_name": "openvino",
   "language": "python",
   "name": "python3"
  },
  "language_info": {
   "codemirror_mode": {
    "name": "ipython",
    "version": 3
   },
   "file_extension": ".py",
   "mimetype": "text/x-python",
   "name": "python",
   "nbconvert_exporter": "python",
   "pygments_lexer": "ipython3",
   "version": "3.12.4"
  }
 },
 "nbformat": 4,
 "nbformat_minor": 2
}
