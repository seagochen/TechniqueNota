{
 "cells": [
  {
   "cell_type": "markdown",
   "metadata": {},
   "source": [
    "# Import libraries"
   ]
  },
  {
   "cell_type": "code",
   "execution_count": null,
   "metadata": {},
   "outputs": [],
   "source": [
    "import os\n",
    "import cv2\n",
    "import numpy as np"
   ]
  },
  {
   "cell_type": "markdown",
   "metadata": {},
   "source": [
    "# Pad the images"
   ]
  },
  {
   "cell_type": "code",
   "execution_count": null,
   "metadata": {},
   "outputs": [],
   "source": [
    "def pad_images(image_folder, output_folder, pad_color=(0, 0, 0)):\n",
    "    # 检查输入文件夹是否存在\n",
    "    if not os.path.exists(image_folder):\n",
    "        print(f\"The specified input path {image_folder} does not exist.\")\n",
    "        return\n",
    "    \n",
    "    # 检查输出文件夹是否存在，如果不存在则创建\n",
    "    if not os.path.exists(output_folder):\n",
    "        os.makedirs(output_folder)\n",
    "    \n",
    "    # 遍历文件夹中的所有图像文件\n",
    "    for image_file in os.listdir(image_folder):\n",
    "        image_path = os.path.join(image_folder, image_file)\n",
    "        \n",
    "        # 读取图像\n",
    "        image = cv2.imread(image_path)\n",
    "        if image is None:\n",
    "            print(f\"Could not read image {image_file}. Skipping.\")\n",
    "            continue\n",
    "        \n",
    "        # 获取图像的尺寸\n",
    "        height, width = image.shape[:2]\n",
    "\n",
    "        # 确定填充后的尺寸\n",
    "        max_side = max(width, height)\n",
    "\n",
    "        # 创建一个新的正方形图像，并填充背景色\n",
    "        padded_image = np.full((max_side, max_side, 3), pad_color, dtype=np.uint8)\n",
    "\n",
    "        # 计算图像放置的起始位置\n",
    "        x_offset = (max_side - width) // 2\n",
    "        y_offset = (max_side - height) // 2\n",
    "\n",
    "        # 将原始图像复制到新图像中\n",
    "        padded_image[y_offset:y_offset+height, x_offset:x_offset+width] = image\n",
    "\n",
    "        # 保存填充后的图像\n",
    "        output_path = os.path.join(output_folder, image_file)\n",
    "        cv2.imwrite(output_path, padded_image)\n",
    "        print(f\"Padded and saved {image_file} to {output_folder}\")"
   ]
  },
  {
   "cell_type": "markdown",
   "metadata": {},
   "source": [
    "# Main"
   ]
  },
  {
   "cell_type": "code",
   "execution_count": null,
   "metadata": {},
   "outputs": [],
   "source": [
    "# 请求用户输入路径\n",
    "image_folder = input(\"请输入图像文件夹的路径: \")\n",
    "output_folder = os.path.join(image_folder, \"padded\")\n",
    "\n",
    "# 检查路径是否存在\n",
    "if os.path.exists(image_folder):\n",
    "    pad_images(image_folder, output_folder)\n",
    "else:\n",
    "    print(f\"The specified path {image_folder} does not exist.\")"
   ]
  }
 ],
 "metadata": {
  "kernelspec": {
   "display_name": "scientia",
   "language": "python",
   "name": "python3"
  },
  "language_info": {
   "codemirror_mode": {
    "name": "ipython",
    "version": 3
   },
   "file_extension": ".py",
   "mimetype": "text/x-python",
   "name": "python",
   "nbconvert_exporter": "python",
   "pygments_lexer": "ipython3",
   "version": "3.12.4"
  }
 },
 "nbformat": 4,
 "nbformat_minor": 2
}
