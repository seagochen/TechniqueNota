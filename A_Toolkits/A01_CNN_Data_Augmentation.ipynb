{
 "cells": [
  {
   "cell_type": "markdown",
   "metadata": {},
   "source": [
    "# 导入"
   ]
  },
  {
   "cell_type": "code",
   "execution_count": 1,
   "metadata": {},
   "outputs": [],
   "source": [
    "import cv2\n",
    "import albumentations as A\n",
    "import os\n",
    "import numpy as np"
   ]
  },
  {
   "cell_type": "markdown",
   "metadata": {},
   "source": [
    "# 图像填充"
   ]
  },
  {
   "cell_type": "code",
   "execution_count": 2,
   "metadata": {},
   "outputs": [],
   "source": [
    "def image_padding(image, size=640):\n",
    "    h, w = image.shape[:2]\n",
    "\n",
    "    if h >= size or w >= size:\n",
    "        # Resize the image if any dimension is larger than the target size\n",
    "        scale = size / max(h, w)\n",
    "        new_h, new_w = int(h * scale), int(w * scale)\n",
    "        image = cv2.resize(image, (new_w, new_h))\n",
    "\n",
    "    h, w = image.shape[:2]\n",
    "    top = (size - h) // 2\n",
    "    bottom = size - h - top\n",
    "    left = (size - w) // 2\n",
    "    right = size - w - left\n",
    "\n",
    "    # Ensure non-negative values\n",
    "    top = max(0, top)\n",
    "    bottom = max(0, bottom)\n",
    "    left = max(0, left)\n",
    "    right = max(0, right)\n",
    "\n",
    "    padded_image = cv2.copyMakeBorder(image, \n",
    "                                      top=top,\n",
    "                                      bottom=bottom,\n",
    "                                      left=left,\n",
    "                                      right=right,\n",
    "                                      borderType=cv2.BORDER_CONSTANT, \n",
    "                                      value=[0, 0, 0])\n",
    "    return padded_image"
   ]
  },
  {
   "cell_type": "markdown",
   "metadata": {},
   "source": [
    "# 图像过曝操作"
   ]
  },
  {
   "cell_type": "code",
   "execution_count": 3,
   "metadata": {},
   "outputs": [],
   "source": [
    "# 将原始图片过曝\n",
    "def adjust_gamma(image, gamma=1.0):\n",
    "    \"\"\"\n",
    "    Apply gamma correction to the input image.\n",
    "\n",
    "    Parameters:\n",
    "    - image: The input image.\n",
    "    - gamma: The gamma value to adjust the brightness. Values > 1 will make the image brighter.\n",
    "\n",
    "    Returns:\n",
    "    - adjusted_image: The gamma-corrected image.\n",
    "    \"\"\"\n",
    "    inv_gamma = 1.0 / gamma\n",
    "    table = np.array([(i / 255.0) ** inv_gamma * 255 for i in np.arange(0, 256)]).astype(\"uint8\")\n",
    "    adjusted_image = cv2.LUT(image, table)\n",
    "    return adjusted_image\n",
    "    "
   ]
  },
  {
   "cell_type": "markdown",
   "metadata": {},
   "source": [
    "# 运动模糊"
   ]
  },
  {
   "cell_type": "code",
   "execution_count": 4,
   "metadata": {},
   "outputs": [],
   "source": [
    "def motion_blur(image, size=15, angle=0):\n",
    "    \"\"\"\n",
    "    对图像应用运动模糊效果。\n",
    "    \n",
    "    参数:\n",
    "    - image: 输入图像。\n",
    "    - size: 模糊核的大小，决定了模糊的强度。\n",
    "    - angle: 模糊的方向，以度为单位。\n",
    "    \n",
    "    返回:\n",
    "    - 模糊后的图像。\n",
    "    \"\"\"\n",
    "    # 创建运动模糊核\n",
    "    M = cv2.getRotationMatrix2D((size / 2, size / 2), angle, 1)\n",
    "    motion_blur_kernel = np.diag(np.ones(size))\n",
    "    motion_blur_kernel = cv2.warpAffine(motion_blur_kernel, M, (size, size))\n",
    "    \n",
    "    motion_blur_kernel = motion_blur_kernel / size\n",
    "    \n",
    "    # 应用运动模糊核\n",
    "    blurred = cv2.filter2D(image, -1, motion_blur_kernel)\n",
    "    \n",
    "    # 将核四周的黑边去掉\n",
    "    cv2.normalize(blurred, blurred, 0, 255, cv2.NORM_MINMAX)\n",
    "    return blurred"
   ]
  },
  {
   "cell_type": "markdown",
   "metadata": {},
   "source": [
    "# 数据增强"
   ]
  },
  {
   "cell_type": "code",
   "execution_count": 5,
   "metadata": {},
   "outputs": [],
   "source": [
    "def augment_image(image, augmenter):\n",
    "    return augmenter(image=image)['image']\n",
    "\n",
    "def augment_and_save(image_folder, augmented_folder, num_augments=3):\n",
    "    if not os.path.exists(augmented_folder):\n",
    "        os.makedirs(augmented_folder)\n",
    "    \n",
    "    # 定义数据增强操作\n",
    "    augmenter = A.Compose([\n",
    "        A.HorizontalFlip(p=0.5), # 添加水平翻转\n",
    "        A.VerticalFlip(p=0.5),  # 添加水平翻转和垂直翻转\n",
    "        A.RandomRotate90(p=0.5), # 添加90度旋转\n",
    "        A.ShiftScaleRotate(scale_limit=0.2, rotate_limit=20, shift_limit=0.2, p=0.5), # 添加平移、缩放和旋转变换\n",
    "        A.RandomBrightnessContrast(p=0.5), # 添加随机亮度和对比度变换\n",
    "        A.HueSaturationValue(p=0.5), # 添加色调、饱和度、亮度变换\n",
    "        A.RGBShift(p=0.5), # 添加RGB偏移\n",
    "        A.CLAHE(p=0.5), # 添加对比度受限自适应直方图均衡化\n",
    "        A.RandomGamma(p=0.5), # 添加Gamma变换\n",
    "        A.GaussNoise(p=0.5), # 添加高斯噪声\n",
    "        A.Blur(p=0.3), # 添加模糊\n",
    "        A.CoarseDropout(max_holes=8, max_height=64, max_width=64, p=0.5), # 添加遮挡\n",
    "    ])\n",
    "\n",
    "    # 定义旋转增强操作\n",
    "    for image_file in os.listdir(image_folder):\n",
    "        image_path = os.path.join(image_folder, image_file)\n",
    "        image = cv2.imread(image_path)\n",
    "        if image is None:\n",
    "            continue\n",
    "\n",
    "        # 对图像进行缩放 640x640\n",
    "        image = cv2.resize(image, (640, 640))\n",
    "\n",
    "        # 保存原始图像\n",
    "        cv2.imwrite(os.path.join(augmented_folder, f\"{os.path.splitext(image_file)[0]}_original.jpg\"), image)\n",
    "        \n",
    "        # 随机触发自定义增强操作\n",
    "        if np.random.rand() < 0.4:\n",
    "\n",
    "            # 图像随机缩放比值为\n",
    "            random_scale = np.random.uniform(0.5, 0.8)\n",
    "            shrink_image = cv2.resize(image, (int(image.shape[1] * random_scale), int(image.shape[0] * random_scale)))\n",
    "            shrink_image = image_padding(shrink_image, 640)\n",
    "            shrink_image_path = os.path.join(augmented_folder, f\"{os.path.splitext(image_file)[0]}_shrink.jpg\")\n",
    "            cv2.imwrite(shrink_image_path, shrink_image)\n",
    "\n",
    "            # 产出过曝图像\n",
    "            gamma_adjusted_image = adjust_gamma(image, gamma=2.0)\n",
    "            gamma_adjusted_image_path = os.path.join(augmented_folder, f\"{os.path.splitext(image_file)[0]}_gamma.jpg\")\n",
    "            cv2.imwrite(gamma_adjusted_image_path, gamma_adjusted_image)\n",
    "\n",
    "            # 产出运动模糊图像\n",
    "            motion_blurred_image = motion_blur(image, size=15, angle=45)\n",
    "            motion_blurred_image = image_padding(motion_blurred_image, 640)\n",
    "            motion_blurred_image_path = os.path.join(augmented_folder, f\"{os.path.splitext(image_file)[0]}_motion.jpg\")\n",
    "            cv2.imwrite(motion_blurred_image_path, motion_blurred_image)\n",
    "        \n",
    "        # 生成其他增强图像\n",
    "        for i in range(num_augments):\n",
    "            augmented_image = augment_image(image, augmenter)\n",
    "            augmented_image = image_padding(augmented_image, 640)\n",
    "            augmented_image_path = os.path.join(augmented_folder, f\"{os.path.splitext(image_file)[0]}_aug_{i}.jpg\")\n",
    "            cv2.imwrite(augmented_image_path, augmented_image)"
   ]
  },
  {
   "cell_type": "markdown",
   "metadata": {},
   "source": [
    "# Main"
   ]
  },
  {
   "cell_type": "code",
   "execution_count": 6,
   "metadata": {},
   "outputs": [],
   "source": [
    "# 请求用户输入路径\n",
    "image_folder = input(\"请输入图像文件夹的路径: \")\n",
    "augmented_folder = os.path.join(image_folder, 'augmented')\n",
    "\n",
    "# 调用函数进行数据增强\n",
    "augment_and_save(image_folder, augmented_folder, num_augments=3)"
   ]
  }
 ],
 "metadata": {
  "kernelspec": {
   "display_name": "aigc",
   "language": "python",
   "name": "python3"
  },
  "language_info": {
   "codemirror_mode": {
    "name": "ipython",
    "version": 3
   },
   "file_extension": ".py",
   "mimetype": "text/x-python",
   "name": "python",
   "nbconvert_exporter": "python",
   "pygments_lexer": "ipython3",
   "version": "3.12.4"
  }
 },
 "nbformat": 4,
 "nbformat_minor": 2
}
