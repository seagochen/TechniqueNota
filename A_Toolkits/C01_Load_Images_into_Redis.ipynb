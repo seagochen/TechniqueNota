{
 "cells": [
  {
   "metadata": {},
   "cell_type": "markdown",
   "source": "# Import libraries"
  },
  {
   "metadata": {},
   "cell_type": "code",
   "outputs": [],
   "execution_count": null,
   "source": [
    "import os\n",
    "import cv2\n",
    "import redis"
   ]
  },
  {
   "metadata": {},
   "cell_type": "markdown",
   "source": "# Save the data into Redis"
  },
  {
   "cell_type": "code",
   "execution_count": null,
   "metadata": {},
   "outputs": [],
   "source": [
    "def save_images_to_redis(image_folder, redis_host='localhost', redis_port=6379, redis_db=0):\n",
    "    # 检查路径是否存在\n",
    "    if not os.path.exists(image_folder):\n",
    "        print(f\"The specified path {image_folder} does not exist.\")\n",
    "        return\n",
    "    \n",
    "    # 连接Redis\n",
    "    redis_client = redis.StrictRedis(host=redis_host, port=redis_port, db=redis_db)\n",
    "    \n",
    "    # 遍历文件夹中的所有图像文件\n",
    "    for image_file in os.listdir(image_folder):\n",
    "        image_path = os.path.join(image_folder, image_file)\n",
    "        \n",
    "        # 读取图像\n",
    "        image = cv2.imread(image_path)\n",
    "        if image is None:\n",
    "            print(f\"Could not read image {image_file}. Skipping.\")\n",
    "            continue\n",
    "        \n",
    "        # 将图像编码为字节数据\n",
    "        _, buffer = cv2.imencode('.jpg', image)\n",
    "        \n",
    "        # 将图像字节数据存储到Redis\n",
    "        redis_client.set(image_file, buffer.tobytes())\n",
    "        print(f\"Saved {image_file} to Redis.\")\n"
   ]
  },
  {
   "metadata": {},
   "cell_type": "markdown",
   "source": "# Main"
  },
  {
   "cell_type": "code",
   "execution_count": null,
   "metadata": {},
   "outputs": [],
   "source": [
    "# 请求用户输入路径\n",
    "image_folder = input(\"请输入图像文件夹的路径: \")\n",
    "\n",
    "# 检查路径是否存在\n",
    "if os.path.exists(image_folder):\n",
    "    save_images_to_redis(image_folder)\n",
    "else:\n",
    "    print(f\"The specified path {image_folder} does not exist.\")"
   ]
  }
 ],
 "metadata": {
  "kernelspec": {
   "display_name": "aigc",
   "language": "python",
   "name": "python3"
  },
  "language_info": {
   "codemirror_mode": {
    "name": "ipython",
    "version": 3
   },
   "file_extension": ".py",
   "mimetype": "text/x-python",
   "name": "python",
   "nbconvert_exporter": "python",
   "pygments_lexer": "ipython3",
   "version": "3.10.14"
  }
 },
 "nbformat": 4,
 "nbformat_minor": 2
}
